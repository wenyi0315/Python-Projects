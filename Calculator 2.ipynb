{
 "cells": [
  {
   "cell_type": "code",
   "execution_count": null,
   "id": "01c68d12",
   "metadata": {},
   "outputs": [],
   "source": [
    "def simple_calculator():\n",
    "    num1 = float(input(\"Enter the first number\"))\n",
    "    num2 = float(input(\"Enter the second number\"))\n",
    "    operation = input(\"Enter a mathematical operation (+,-,*,/):\")\n",
    "    if operation == \"+\":\n",
    "        result = num1 + num2\n",
    "    elif operation == \"-\":\n",
    "        result = num1 - num2 \n",
    "    elif operation == \"*\":\n",
    "        result = num1*num2\n",
    "    elif operation == \"/\":\n",
    "        result = num1/num2\n",
    "    print(f\"Result:{result}\")\n",
    "simple_calculator()"
   ]
  },
  {
   "cell_type": "code",
   "execution_count": null,
   "id": "9eadefe5",
   "metadata": {},
   "outputs": [],
   "source": []
  }
 ],
 "metadata": {
  "kernelspec": {
   "display_name": "Python 3 (ipykernel)",
   "language": "python",
   "name": "python3"
  },
  "language_info": {
   "codemirror_mode": {
    "name": "ipython",
    "version": 3
   },
   "file_extension": ".py",
   "mimetype": "text/x-python",
   "name": "python",
   "nbconvert_exporter": "python",
   "pygments_lexer": "ipython3",
   "version": "3.11.5"
  }
 },
 "nbformat": 4,
 "nbformat_minor": 5
}
