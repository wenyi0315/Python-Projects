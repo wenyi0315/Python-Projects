{
 "cells": [
  {
   "cell_type": "code",
   "execution_count": null,
   "id": "01c68d12",
   "metadata": {},
   "outputs": [],
   "source": [
    "def simple_calculator():\n",
    "    num1 = float(input(\"Enter the first number\"))\n",
    "    num2 = float(input(\"Enter the second number\"))\n",
    "    operation = input(\"Enter a mathematical operation (+,-,*,/):\")\n",
    "    if operation == \"+\":\n",
    "        result = num1 + num2\n",
    "    elif operation == \"-\":\n",
    "        result = num1 - num2 \n",
    "    elif operation == \"*\":\n",
    "        result = num1*num2\n",
    "    elif operation == \"/\":\n",
    "        result = num1/num2\n",
    "    print(f\"Result:{result}\")\n",
    "simple_calculator()"
   ]
  },
  {
   "cell_type": "code",
   "execution_count": null,
   "id": "9eadefe5",
   "metadata": {},
   "outputs": [
    {
     "name": "stdout",
     "output_type": "stream",
     "text": [
      "Enter the first number 1\n",
      "Enter the second number /\n",
      "Please enter a valid integer\n",
      "Enter the first number 1\n",
      "Enter the second number 0\n",
      "Enter a mathematical operation (+,-,*,/):/\n",
      "Division by 0 is not allowed, please enter a new value\n"
     ]
    }
   ],
   "source": [
    "def simple_calculator():\n",
    "    \n",
    "    success = True\n",
    "    while success:\n",
    "        try:    \n",
    "            num1 = float(input(\"Enter the first number \"))\n",
    "            num2 = float(input(\"Enter the second number \"))\n",
    "            operation = input(\"Enter a mathematical operation (+,-,*,/):\")\n",
    "            if operation == \"+\":\n",
    "                result = num1 + num2\n",
    "            elif operation == \"-\":\n",
    "                result = num1 - num2 \n",
    "            elif operation == \"*\":\n",
    "                result = num1*num2\n",
    "            elif operation == \"/\":\n",
    "                result = num1/num2\n",
    "            print(f\"Result:{result}\")\n",
    "            break\n",
    "        except ValueError:\n",
    "            print('Please enter a valid integer')\n",
    "        except ZeroDivisionError:\n",
    "            print('Division by 0 is not allowed, please enter a new value')\n",
    "        except:\n",
    "            print('There is an error')\n",
    "        \n",
    "simple_calculator()"
   ]
  },
  {
   "cell_type": "code",
   "execution_count": null,
   "id": "16a1ffb8",
   "metadata": {},
   "outputs": [],
   "source": []
  }
 ],
 "metadata": {
  "kernelspec": {
   "display_name": "Python 3 (ipykernel)",
   "language": "python",
   "name": "python3"
  },
  "language_info": {
   "codemirror_mode": {
    "name": "ipython",
    "version": 3
   },
   "file_extension": ".py",
   "mimetype": "text/x-python",
   "name": "python",
   "nbconvert_exporter": "python",
   "pygments_lexer": "ipython3",
   "version": "3.11.5"
  }
 },
 "nbformat": 4,
 "nbformat_minor": 5
}
