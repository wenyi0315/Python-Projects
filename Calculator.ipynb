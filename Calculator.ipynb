{
 "cells": [
  {
   "cell_type": "code",
   "execution_count": 1,
   "id": "b302f63e",
   "metadata": {},
   "outputs": [],
   "source": [
    "def simple_calculator():\n",
    "    num1 = float(input(\"Enter the first number\"))\n",
    "    num2 = float(input(\"Enter the second number\"))\n",
    "    operation = input(\"Enter a mathematical operation (+,-,*,/):\")\n",
    "    if operation == \"+\":\n",
    "        result = num1 + num2\n",
    "    elif operation == \"-\":\n",
    "        result = num1 - num2 \n",
    "    elif operation == \"*\":\n",
    "        result = num1*num2\n",
    "    elif operation == \"/\":\n",
    "        result = num1/num2\n",
    "        print(simple_calculator())"
   ]
  },
  {
   "cell_type": "code",
   "execution_count": 2,
   "id": "672a6bd0",
   "metadata": {},
   "outputs": [
    {
     "name": "stdout",
     "output_type": "stream",
     "text": [
      "Hello world\n"
     ]
    }
   ],
   "source": [
    "print(\"Hello world\")"
   ]
  },
  {
   "cell_type": "code",
   "execution_count": 3,
   "id": "ea774b3a",
   "metadata": {},
   "outputs": [
    {
     "name": "stdout",
     "output_type": "stream",
     "text": [
      "Hello world {result}\n"
     ]
    }
   ],
   "source": [
    "result = 3\n",
    "print(\"Hello world {result}\")"
   ]
  },
  {
   "cell_type": "code",
   "execution_count": 4,
   "id": "90f2e346",
   "metadata": {},
   "outputs": [
    {
     "name": "stdout",
     "output_type": "stream",
     "text": [
      "Hello world 3\n"
     ]
    }
   ],
   "source": [
    "result = 3\n",
    "print(f\"Hello world {result}\")"
   ]
  },
  {
   "cell_type": "code",
   "execution_count": 5,
   "id": "4baff25a",
   "metadata": {},
   "outputs": [
    {
     "name": "stdout",
     "output_type": "stream",
     "text": [
      "Hello word 3\n"
     ]
    }
   ],
   "source": [
    "result = 3 \n",
    "print(f'Hello word {result}')"
   ]
  },
  {
   "cell_type": "code",
   "execution_count": 6,
   "id": "776b63e2",
   "metadata": {},
   "outputs": [
    {
     "name": "stdout",
     "output_type": "stream",
     "text": [
      "Enter the first number1\n",
      "Enter the second number1\n",
      "Enter a mathematical operation (+,-,*,/):+\n",
      "Result:2.0\n"
     ]
    }
   ],
   "source": [
    "def simple_calculator():\n",
    "    num1 = float(input(\"Enter the first number\"))\n",
    "    num2 = float(input(\"Enter the second number\"))\n",
    "    operation = input(\"Enter a mathematical operation (+,-,*,/):\")\n",
    "    if operation == \"+\":\n",
    "        result = num1 + num2\n",
    "    elif operation == \"-\":\n",
    "        result = num1 - num2 \n",
    "    elif operation == \"*\":\n",
    "        result = num1*num2\n",
    "    elif operation == \"/\":\n",
    "        result = num1/num2\n",
    "    print(f\"Result:{result}\")\n",
    "simple_calculator()"
   ]
  },
  {
   "cell_type": "code",
   "execution_count": 7,
   "id": "84faccf3",
   "metadata": {},
   "outputs": [
    {
     "name": "stdout",
     "output_type": "stream",
     "text": [
      "Enter the first number1\n",
      "Enter the second number1\n",
      "Enter a mathematical operation (+,-,*,/):+\n"
     ]
    }
   ],
   "source": [
    "def simple_calculator():\n",
    "    num1 = float(input(\"Enter the first number\"))\n",
    "    num2 = float(input(\"Enter the second number\"))\n",
    "    operation = input(\"Enter a mathematical operation (+,-,*,/):\")\n",
    "    if operation == \"+\":\n",
    "        result = num1 + num2\n",
    "    elif operation == \"-\":\n",
    "        result = num1 - num2 \n",
    "    elif operation == \"*\":\n",
    "        result = num1*num2\n",
    "    elif operation == \"/\":\n",
    "        result = num1/num2\n",
    "        print(f\"Result:{result}\")\n",
    "simple_calculator()"
   ]
  },
  {
   "cell_type": "code",
   "execution_count": 8,
   "id": "dafa2859",
   "metadata": {},
   "outputs": [
    {
     "name": "stdout",
     "output_type": "stream",
     "text": [
      "Enter the first number 1\n",
      "Enter the second number 1\n",
      "Enter a mathematical operation (+,-,*,/):+\n",
      "Result:2.0\n"
     ]
    }
   ],
   "source": [
    "def simple_calculator():\n",
    "    num1 = float(input(\"Enter the first number \"))\n",
    "    num2 = float(input(\"Enter the second number \"))\n",
    "    operation = input(\"Enter a mathematical operation (+,-,*,/):\")\n",
    "    if operation == \"+\":\n",
    "        result = num1 + num2\n",
    "    elif operation == \"-\":\n",
    "        result = num1 - num2 \n",
    "    elif operation == \"*\":\n",
    "        result = num1*num2\n",
    "    elif operation == \"/\":\n",
    "        result = num1/num2\n",
    "    print(f\"Result:{result}\")\n",
    "simple_calculator()"
   ]
  },
  {
   "cell_type": "code",
   "execution_count": 9,
   "id": "bd04ee15",
   "metadata": {},
   "outputs": [
    {
     "name": "stdout",
     "output_type": "stream",
     "text": [
      "Enter the first number 1\n",
      "Enter the second number 1\n",
      "Enter a mathematical operation (+,-,*,/):+\n",
      "Result:2.0\n"
     ]
    }
   ],
   "source": [
    "def simple_calculator():\n",
    "    try:    \n",
    "        num1 = float(input(\"Enter the first number \"))\n",
    "        num2 = float(input(\"Enter the second number \"))\n",
    "        operation = input(\"Enter a mathematical operation (+,-,*,/):\")\n",
    "        if operation == \"+\":\n",
    "            result = num1 + num2\n",
    "        elif operation == \"-\":\n",
    "            result = num1 - num2 \n",
    "        elif operation == \"*\":\n",
    "            result = num1*num2\n",
    "        elif operation == \"/\":\n",
    "            result = num1/num2\n",
    "        print(f\"Result:{result}\")\n",
    "    except ValueError:\n",
    "        print('Please enter a valid integer')\n",
    "    except ZeroDivisionError:\n",
    "        print('Division by 0 is not allowed, please enter a new value')\n",
    "        return simple_calculator\n",
    "    except:\n",
    "        print('There is an error')\n",
    "    \n",
    "simple_calculator()"
   ]
  },
  {
   "cell_type": "code",
   "execution_count": null,
   "id": "3a957aca",
   "metadata": {},
   "outputs": [
    {
     "name": "stdout",
     "output_type": "stream",
     "text": [
      "Enter the first number 1\n",
      "Enter the second number 0/\n",
      "Please enter a valid integer\n",
      "Enter the first number 1\n",
      "Enter the second number 0\n",
      "Enter a mathematical operation (+,-,*,/):/\n",
      "Division by 0 is not allowed, please enter a new value\n"
     ]
    }
   ],
   "source": [
    "def simple_calculator():\n",
    "    \n",
    "    success = True\n",
    "    while success:\n",
    "        try:    \n",
    "            num1 = float(input(\"Enter the first number \"))\n",
    "            num2 = float(input(\"Enter the second number \"))\n",
    "            operation = input(\"Enter a mathematical operation (+,-,*,/):\")\n",
    "            if operation == \"+\":\n",
    "                result = num1 + num2\n",
    "            elif operation == \"-\":\n",
    "                result = num1 - num2 \n",
    "            elif operation == \"*\":\n",
    "                result = num1*num2\n",
    "            elif operation == \"/\":\n",
    "                result = num1/num2\n",
    "            print(f\"Result:{result}\")\n",
    "            break\n",
    "        except ValueError:\n",
    "            print('Please enter a valid integer')\n",
    "        except ZeroDivisionError:\n",
    "            print('Division by 0 is not allowed, please enter a new value')\n",
    "        except:\n",
    "            print('There is an error')\n",
    "        \n",
    "simple_calculator()"
   ]
  },
  {
   "cell_type": "code",
   "execution_count": null,
   "id": "b84dce24",
   "metadata": {},
   "outputs": [],
   "source": []
  },
  {
   "cell_type": "code",
   "execution_count": null,
   "id": "60002da0",
   "metadata": {},
   "outputs": [],
   "source": []
  }
 ],
 "metadata": {
  "kernelspec": {
   "display_name": "Python 3 (ipykernel)",
   "language": "python",
   "name": "python3"
  },
  "language_info": {
   "codemirror_mode": {
    "name": "ipython",
    "version": 3
   },
   "file_extension": ".py",
   "mimetype": "text/x-python",
   "name": "python",
   "nbconvert_exporter": "python",
   "pygments_lexer": "ipython3",
   "version": "3.11.5"
  }
 },
 "nbformat": 4,
 "nbformat_minor": 5
}
